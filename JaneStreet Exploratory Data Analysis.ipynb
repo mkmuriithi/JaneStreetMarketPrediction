{
 "cells": [
  {
   "cell_type": "markdown",
   "metadata": {},
   "source": [
    "\n",
    "<h1>Jane Street Market Prediction Model</h1>\n",
    "\n"
   ]
  },
  {
   "cell_type": "code",
   "execution_count": 1,
   "metadata": {},
   "outputs": [],
   "source": [
    "import numpy as np\n",
    "import pandas as pd\n",
    "import seaborn as sns\n",
    "import matplotlib.pyplot as plt\n",
    "import warnings\n",
    "import scipy.stats\n",
    "warnings.filterwarnings('ignore')\n",
    "\n",
    "\n"
   ]
  },
  {
   "cell_type": "code",
   "execution_count": null,
   "metadata": {},
   "outputs": [],
   "source": [
    "\n"
   ]
  },
  {
   "cell_type": "code",
   "execution_count": 37,
   "metadata": {},
   "outputs": [],
   "source": [
    "data = loaded_data"
   ]
  },
  {
   "cell_type": "code",
   "execution_count": 2,
   "metadata": {},
   "outputs": [],
   "source": [
    "data = pd.read_csv('Data/train.csv') #training data\n",
    "features = pd.read_csv('Data/features.csv')"
   ]
  },
  {
   "cell_type": "code",
   "execution_count": 3,
   "metadata": {},
   "outputs": [],
   "source": [
    "loaded_data = data"
   ]
  },
  {
   "cell_type": "markdown",
   "metadata": {},
   "source": [
    "### Dataset Description\n",
    "\n",
    "This dataset contains an anonymized set of features representing real stock market data => `feature_{0..129}`\n",
    "\n",
    "The goal is to either make the trade or pass on it\n",
    "\n",
    "`weight` and `resp` together represent return on the trade\n",
    "\n",
    "`date` represents day of the trade\n",
    "`ts_id` represents time ordering\n",
    "\n",
    "`resp_{1,2,3,4}` represent time horizons"
   ]
  },
  {
   "cell_type": "code",
   "execution_count": 4,
   "metadata": {},
   "outputs": [
    {
     "data": {
      "text/html": [
       "<div>\n",
       "<style scoped>\n",
       "    .dataframe tbody tr th:only-of-type {\n",
       "        vertical-align: middle;\n",
       "    }\n",
       "\n",
       "    .dataframe tbody tr th {\n",
       "        vertical-align: top;\n",
       "    }\n",
       "\n",
       "    .dataframe thead th {\n",
       "        text-align: right;\n",
       "    }\n",
       "</style>\n",
       "<table border=\"1\" class=\"dataframe\">\n",
       "  <thead>\n",
       "    <tr style=\"text-align: right;\">\n",
       "      <th></th>\n",
       "      <th>date</th>\n",
       "      <th>weight</th>\n",
       "      <th>resp_1</th>\n",
       "      <th>resp_2</th>\n",
       "      <th>resp_3</th>\n",
       "      <th>resp_4</th>\n",
       "      <th>resp</th>\n",
       "      <th>feature_0</th>\n",
       "      <th>feature_1</th>\n",
       "      <th>feature_2</th>\n",
       "      <th>...</th>\n",
       "      <th>feature_121</th>\n",
       "      <th>feature_122</th>\n",
       "      <th>feature_123</th>\n",
       "      <th>feature_124</th>\n",
       "      <th>feature_125</th>\n",
       "      <th>feature_126</th>\n",
       "      <th>feature_127</th>\n",
       "      <th>feature_128</th>\n",
       "      <th>feature_129</th>\n",
       "      <th>ts_id</th>\n",
       "    </tr>\n",
       "  </thead>\n",
       "  <tbody>\n",
       "    <tr>\n",
       "      <th>0</th>\n",
       "      <td>0</td>\n",
       "      <td>0.000000</td>\n",
       "      <td>0.009916</td>\n",
       "      <td>0.014079</td>\n",
       "      <td>0.008773</td>\n",
       "      <td>0.001390</td>\n",
       "      <td>0.006270</td>\n",
       "      <td>1</td>\n",
       "      <td>-1.872746</td>\n",
       "      <td>-2.191242</td>\n",
       "      <td>...</td>\n",
       "      <td>NaN</td>\n",
       "      <td>1.168391</td>\n",
       "      <td>8.313583</td>\n",
       "      <td>1.782433</td>\n",
       "      <td>14.018213</td>\n",
       "      <td>2.653056</td>\n",
       "      <td>12.600292</td>\n",
       "      <td>2.301488</td>\n",
       "      <td>11.445807</td>\n",
       "      <td>0</td>\n",
       "    </tr>\n",
       "    <tr>\n",
       "      <th>1</th>\n",
       "      <td>0</td>\n",
       "      <td>16.673515</td>\n",
       "      <td>-0.002828</td>\n",
       "      <td>-0.003226</td>\n",
       "      <td>-0.007319</td>\n",
       "      <td>-0.011114</td>\n",
       "      <td>-0.009792</td>\n",
       "      <td>-1</td>\n",
       "      <td>-1.349537</td>\n",
       "      <td>-1.704709</td>\n",
       "      <td>...</td>\n",
       "      <td>NaN</td>\n",
       "      <td>-1.178850</td>\n",
       "      <td>1.777472</td>\n",
       "      <td>-0.915458</td>\n",
       "      <td>2.831612</td>\n",
       "      <td>-1.417010</td>\n",
       "      <td>2.297459</td>\n",
       "      <td>-1.304614</td>\n",
       "      <td>1.898684</td>\n",
       "      <td>1</td>\n",
       "    </tr>\n",
       "    <tr>\n",
       "      <th>2</th>\n",
       "      <td>0</td>\n",
       "      <td>0.000000</td>\n",
       "      <td>0.025134</td>\n",
       "      <td>0.027607</td>\n",
       "      <td>0.033406</td>\n",
       "      <td>0.034380</td>\n",
       "      <td>0.023970</td>\n",
       "      <td>-1</td>\n",
       "      <td>0.812780</td>\n",
       "      <td>-0.256156</td>\n",
       "      <td>...</td>\n",
       "      <td>NaN</td>\n",
       "      <td>6.115747</td>\n",
       "      <td>9.667908</td>\n",
       "      <td>5.542871</td>\n",
       "      <td>11.671595</td>\n",
       "      <td>7.281757</td>\n",
       "      <td>10.060014</td>\n",
       "      <td>6.638248</td>\n",
       "      <td>9.427299</td>\n",
       "      <td>2</td>\n",
       "    </tr>\n",
       "    <tr>\n",
       "      <th>3</th>\n",
       "      <td>0</td>\n",
       "      <td>0.000000</td>\n",
       "      <td>-0.004730</td>\n",
       "      <td>-0.003273</td>\n",
       "      <td>-0.000461</td>\n",
       "      <td>-0.000476</td>\n",
       "      <td>-0.003200</td>\n",
       "      <td>-1</td>\n",
       "      <td>1.174378</td>\n",
       "      <td>0.344640</td>\n",
       "      <td>...</td>\n",
       "      <td>NaN</td>\n",
       "      <td>2.838853</td>\n",
       "      <td>0.499251</td>\n",
       "      <td>3.033732</td>\n",
       "      <td>1.513488</td>\n",
       "      <td>4.397532</td>\n",
       "      <td>1.266037</td>\n",
       "      <td>3.856384</td>\n",
       "      <td>1.013469</td>\n",
       "      <td>3</td>\n",
       "    </tr>\n",
       "    <tr>\n",
       "      <th>4</th>\n",
       "      <td>0</td>\n",
       "      <td>0.138531</td>\n",
       "      <td>0.001252</td>\n",
       "      <td>0.002165</td>\n",
       "      <td>-0.001215</td>\n",
       "      <td>-0.006219</td>\n",
       "      <td>-0.002604</td>\n",
       "      <td>1</td>\n",
       "      <td>-3.172026</td>\n",
       "      <td>-3.093182</td>\n",
       "      <td>...</td>\n",
       "      <td>NaN</td>\n",
       "      <td>0.344850</td>\n",
       "      <td>4.101145</td>\n",
       "      <td>0.614252</td>\n",
       "      <td>6.623456</td>\n",
       "      <td>0.800129</td>\n",
       "      <td>5.233243</td>\n",
       "      <td>0.362636</td>\n",
       "      <td>3.926633</td>\n",
       "      <td>4</td>\n",
       "    </tr>\n",
       "  </tbody>\n",
       "</table>\n",
       "<p>5 rows × 138 columns</p>\n",
       "</div>"
      ],
      "text/plain": [
       "   date     weight    resp_1    resp_2    resp_3    resp_4      resp  \\\n",
       "0     0   0.000000  0.009916  0.014079  0.008773  0.001390  0.006270   \n",
       "1     0  16.673515 -0.002828 -0.003226 -0.007319 -0.011114 -0.009792   \n",
       "2     0   0.000000  0.025134  0.027607  0.033406  0.034380  0.023970   \n",
       "3     0   0.000000 -0.004730 -0.003273 -0.000461 -0.000476 -0.003200   \n",
       "4     0   0.138531  0.001252  0.002165 -0.001215 -0.006219 -0.002604   \n",
       "\n",
       "   feature_0  feature_1  feature_2  ...  feature_121  feature_122  \\\n",
       "0          1  -1.872746  -2.191242  ...          NaN     1.168391   \n",
       "1         -1  -1.349537  -1.704709  ...          NaN    -1.178850   \n",
       "2         -1   0.812780  -0.256156  ...          NaN     6.115747   \n",
       "3         -1   1.174378   0.344640  ...          NaN     2.838853   \n",
       "4          1  -3.172026  -3.093182  ...          NaN     0.344850   \n",
       "\n",
       "   feature_123  feature_124  feature_125  feature_126  feature_127  \\\n",
       "0     8.313583     1.782433    14.018213     2.653056    12.600292   \n",
       "1     1.777472    -0.915458     2.831612    -1.417010     2.297459   \n",
       "2     9.667908     5.542871    11.671595     7.281757    10.060014   \n",
       "3     0.499251     3.033732     1.513488     4.397532     1.266037   \n",
       "4     4.101145     0.614252     6.623456     0.800129     5.233243   \n",
       "\n",
       "   feature_128  feature_129  ts_id  \n",
       "0     2.301488    11.445807      0  \n",
       "1    -1.304614     1.898684      1  \n",
       "2     6.638248     9.427299      2  \n",
       "3     3.856384     1.013469      3  \n",
       "4     0.362636     3.926633      4  \n",
       "\n",
       "[5 rows x 138 columns]"
      ]
     },
     "execution_count": 4,
     "metadata": {},
     "output_type": "execute_result"
    }
   ],
   "source": [
    "data.head()"
   ]
  },
  {
   "cell_type": "code",
   "execution_count": 5,
   "metadata": {},
   "outputs": [
    {
     "data": {
      "text/html": [
       "<div>\n",
       "<style scoped>\n",
       "    .dataframe tbody tr th:only-of-type {\n",
       "        vertical-align: middle;\n",
       "    }\n",
       "\n",
       "    .dataframe tbody tr th {\n",
       "        vertical-align: top;\n",
       "    }\n",
       "\n",
       "    .dataframe thead th {\n",
       "        text-align: right;\n",
       "    }\n",
       "</style>\n",
       "<table border=\"1\" class=\"dataframe\">\n",
       "  <thead>\n",
       "    <tr style=\"text-align: right;\">\n",
       "      <th></th>\n",
       "      <th>date</th>\n",
       "      <th>weight</th>\n",
       "      <th>resp_1</th>\n",
       "      <th>resp_2</th>\n",
       "      <th>resp_3</th>\n",
       "      <th>resp_4</th>\n",
       "      <th>resp</th>\n",
       "      <th>feature_0</th>\n",
       "      <th>feature_1</th>\n",
       "      <th>feature_2</th>\n",
       "      <th>...</th>\n",
       "      <th>feature_121</th>\n",
       "      <th>feature_122</th>\n",
       "      <th>feature_123</th>\n",
       "      <th>feature_124</th>\n",
       "      <th>feature_125</th>\n",
       "      <th>feature_126</th>\n",
       "      <th>feature_127</th>\n",
       "      <th>feature_128</th>\n",
       "      <th>feature_129</th>\n",
       "      <th>ts_id</th>\n",
       "    </tr>\n",
       "  </thead>\n",
       "  <tbody>\n",
       "    <tr>\n",
       "      <th>count</th>\n",
       "      <td>2.390491e+06</td>\n",
       "      <td>2.390491e+06</td>\n",
       "      <td>2.390491e+06</td>\n",
       "      <td>2.390491e+06</td>\n",
       "      <td>2.390491e+06</td>\n",
       "      <td>2.390491e+06</td>\n",
       "      <td>2.390491e+06</td>\n",
       "      <td>2.390491e+06</td>\n",
       "      <td>2.390491e+06</td>\n",
       "      <td>2.390491e+06</td>\n",
       "      <td>...</td>\n",
       "      <td>2.320637e+06</td>\n",
       "      <td>2.390268e+06</td>\n",
       "      <td>2.390268e+06</td>\n",
       "      <td>2.374408e+06</td>\n",
       "      <td>2.374408e+06</td>\n",
       "      <td>2.381638e+06</td>\n",
       "      <td>2.381638e+06</td>\n",
       "      <td>2.388570e+06</td>\n",
       "      <td>2.388570e+06</td>\n",
       "      <td>2.390491e+06</td>\n",
       "    </tr>\n",
       "    <tr>\n",
       "      <th>mean</th>\n",
       "      <td>2.478668e+02</td>\n",
       "      <td>3.031535e+00</td>\n",
       "      <td>1.434969e-04</td>\n",
       "      <td>1.980749e-04</td>\n",
       "      <td>2.824183e-04</td>\n",
       "      <td>4.350201e-04</td>\n",
       "      <td>4.083113e-04</td>\n",
       "      <td>9.838565e-03</td>\n",
       "      <td>3.855776e-01</td>\n",
       "      <td>3.576875e-01</td>\n",
       "      <td>...</td>\n",
       "      <td>2.687757e-01</td>\n",
       "      <td>3.435523e-01</td>\n",
       "      <td>2.799973e-01</td>\n",
       "      <td>3.351537e-01</td>\n",
       "      <td>2.448752e-01</td>\n",
       "      <td>3.391778e-01</td>\n",
       "      <td>2.323809e-01</td>\n",
       "      <td>3.425608e-01</td>\n",
       "      <td>2.456182e-01</td>\n",
       "      <td>1.195245e+06</td>\n",
       "    </tr>\n",
       "    <tr>\n",
       "      <th>std</th>\n",
       "      <td>1.522746e+02</td>\n",
       "      <td>7.672794e+00</td>\n",
       "      <td>8.930163e-03</td>\n",
       "      <td>1.230236e-02</td>\n",
       "      <td>1.906882e-02</td>\n",
       "      <td>3.291224e-02</td>\n",
       "      <td>2.693609e-02</td>\n",
       "      <td>9.999518e-01</td>\n",
       "      <td>2.559373e+00</td>\n",
       "      <td>2.477335e+00</td>\n",
       "      <td>...</td>\n",
       "      <td>2.174238e+00</td>\n",
       "      <td>2.087842e+00</td>\n",
       "      <td>1.977643e+00</td>\n",
       "      <td>1.742587e+00</td>\n",
       "      <td>2.242853e+00</td>\n",
       "      <td>2.534498e+00</td>\n",
       "      <td>1.795854e+00</td>\n",
       "      <td>2.307130e+00</td>\n",
       "      <td>1.765419e+00</td>\n",
       "      <td>6.900755e+05</td>\n",
       "    </tr>\n",
       "    <tr>\n",
       "      <th>min</th>\n",
       "      <td>0.000000e+00</td>\n",
       "      <td>0.000000e+00</td>\n",
       "      <td>-3.675043e-01</td>\n",
       "      <td>-5.328334e-01</td>\n",
       "      <td>-5.681196e-01</td>\n",
       "      <td>-5.987447e-01</td>\n",
       "      <td>-5.493845e-01</td>\n",
       "      <td>-1.000000e+00</td>\n",
       "      <td>-3.172026e+00</td>\n",
       "      <td>-3.093182e+00</td>\n",
       "      <td>...</td>\n",
       "      <td>-7.471971e+00</td>\n",
       "      <td>-5.862979e+00</td>\n",
       "      <td>-6.029281e+00</td>\n",
       "      <td>-4.080720e+00</td>\n",
       "      <td>-8.136407e+00</td>\n",
       "      <td>-8.215050e+00</td>\n",
       "      <td>-5.765982e+00</td>\n",
       "      <td>-7.024909e+00</td>\n",
       "      <td>-5.282181e+00</td>\n",
       "      <td>0.000000e+00</td>\n",
       "    </tr>\n",
       "    <tr>\n",
       "      <th>25%</th>\n",
       "      <td>1.040000e+02</td>\n",
       "      <td>1.617400e-01</td>\n",
       "      <td>-1.859162e-03</td>\n",
       "      <td>-2.655044e-03</td>\n",
       "      <td>-5.030704e-03</td>\n",
       "      <td>-9.310415e-03</td>\n",
       "      <td>-7.157903e-03</td>\n",
       "      <td>-1.000000e+00</td>\n",
       "      <td>-1.299334e+00</td>\n",
       "      <td>-1.263628e+00</td>\n",
       "      <td>...</td>\n",
       "      <td>-1.123252e+00</td>\n",
       "      <td>-1.114326e+00</td>\n",
       "      <td>-9.512009e-01</td>\n",
       "      <td>-9.133750e-01</td>\n",
       "      <td>-1.212124e+00</td>\n",
       "      <td>-1.452912e+00</td>\n",
       "      <td>-8.993050e-01</td>\n",
       "      <td>-1.278341e+00</td>\n",
       "      <td>-8.544535e-01</td>\n",
       "      <td>5.976225e+05</td>\n",
       "    </tr>\n",
       "    <tr>\n",
       "      <th>50%</th>\n",
       "      <td>2.540000e+02</td>\n",
       "      <td>7.086770e-01</td>\n",
       "      <td>4.552665e-05</td>\n",
       "      <td>6.928179e-05</td>\n",
       "      <td>1.164734e-04</td>\n",
       "      <td>1.222579e-04</td>\n",
       "      <td>8.634997e-05</td>\n",
       "      <td>1.000000e+00</td>\n",
       "      <td>-1.870182e-05</td>\n",
       "      <td>-7.200577e-07</td>\n",
       "      <td>...</td>\n",
       "      <td>0.000000e+00</td>\n",
       "      <td>7.006233e-17</td>\n",
       "      <td>6.054629e-17</td>\n",
       "      <td>4.870826e-17</td>\n",
       "      <td>-2.558675e-16</td>\n",
       "      <td>1.015055e-16</td>\n",
       "      <td>5.419920e-17</td>\n",
       "      <td>8.563069e-17</td>\n",
       "      <td>4.869529e-17</td>\n",
       "      <td>1.195245e+06</td>\n",
       "    </tr>\n",
       "    <tr>\n",
       "      <th>75%</th>\n",
       "      <td>3.820000e+02</td>\n",
       "      <td>2.471791e+00</td>\n",
       "      <td>2.097469e-03</td>\n",
       "      <td>2.939111e-03</td>\n",
       "      <td>5.466336e-03</td>\n",
       "      <td>9.804649e-03</td>\n",
       "      <td>7.544347e-03</td>\n",
       "      <td>1.000000e+00</td>\n",
       "      <td>1.578417e+00</td>\n",
       "      <td>1.526399e+00</td>\n",
       "      <td>...</td>\n",
       "      <td>1.342829e+00</td>\n",
       "      <td>1.405926e+00</td>\n",
       "      <td>1.308625e+00</td>\n",
       "      <td>1.228277e+00</td>\n",
       "      <td>1.409687e+00</td>\n",
       "      <td>1.767275e+00</td>\n",
       "      <td>1.111491e+00</td>\n",
       "      <td>1.582633e+00</td>\n",
       "      <td>1.125321e+00</td>\n",
       "      <td>1.792868e+06</td>\n",
       "    </tr>\n",
       "    <tr>\n",
       "      <th>max</th>\n",
       "      <td>4.990000e+02</td>\n",
       "      <td>1.672937e+02</td>\n",
       "      <td>2.453477e-01</td>\n",
       "      <td>2.949339e-01</td>\n",
       "      <td>3.265597e-01</td>\n",
       "      <td>5.113795e-01</td>\n",
       "      <td>4.484616e-01</td>\n",
       "      <td>1.000000e+00</td>\n",
       "      <td>7.442989e+01</td>\n",
       "      <td>1.480763e+02</td>\n",
       "      <td>...</td>\n",
       "      <td>1.107771e+02</td>\n",
       "      <td>4.812516e+01</td>\n",
       "      <td>1.276908e+02</td>\n",
       "      <td>6.514517e+01</td>\n",
       "      <td>7.052807e+01</td>\n",
       "      <td>5.872849e+01</td>\n",
       "      <td>6.932221e+01</td>\n",
       "      <td>5.119038e+01</td>\n",
       "      <td>1.164568e+02</td>\n",
       "      <td>2.390490e+06</td>\n",
       "    </tr>\n",
       "  </tbody>\n",
       "</table>\n",
       "<p>8 rows × 138 columns</p>\n",
       "</div>"
      ],
      "text/plain": [
       "               date        weight        resp_1        resp_2        resp_3  \\\n",
       "count  2.390491e+06  2.390491e+06  2.390491e+06  2.390491e+06  2.390491e+06   \n",
       "mean   2.478668e+02  3.031535e+00  1.434969e-04  1.980749e-04  2.824183e-04   \n",
       "std    1.522746e+02  7.672794e+00  8.930163e-03  1.230236e-02  1.906882e-02   \n",
       "min    0.000000e+00  0.000000e+00 -3.675043e-01 -5.328334e-01 -5.681196e-01   \n",
       "25%    1.040000e+02  1.617400e-01 -1.859162e-03 -2.655044e-03 -5.030704e-03   \n",
       "50%    2.540000e+02  7.086770e-01  4.552665e-05  6.928179e-05  1.164734e-04   \n",
       "75%    3.820000e+02  2.471791e+00  2.097469e-03  2.939111e-03  5.466336e-03   \n",
       "max    4.990000e+02  1.672937e+02  2.453477e-01  2.949339e-01  3.265597e-01   \n",
       "\n",
       "             resp_4          resp     feature_0     feature_1     feature_2  \\\n",
       "count  2.390491e+06  2.390491e+06  2.390491e+06  2.390491e+06  2.390491e+06   \n",
       "mean   4.350201e-04  4.083113e-04  9.838565e-03  3.855776e-01  3.576875e-01   \n",
       "std    3.291224e-02  2.693609e-02  9.999518e-01  2.559373e+00  2.477335e+00   \n",
       "min   -5.987447e-01 -5.493845e-01 -1.000000e+00 -3.172026e+00 -3.093182e+00   \n",
       "25%   -9.310415e-03 -7.157903e-03 -1.000000e+00 -1.299334e+00 -1.263628e+00   \n",
       "50%    1.222579e-04  8.634997e-05  1.000000e+00 -1.870182e-05 -7.200577e-07   \n",
       "75%    9.804649e-03  7.544347e-03  1.000000e+00  1.578417e+00  1.526399e+00   \n",
       "max    5.113795e-01  4.484616e-01  1.000000e+00  7.442989e+01  1.480763e+02   \n",
       "\n",
       "       ...   feature_121   feature_122   feature_123   feature_124  \\\n",
       "count  ...  2.320637e+06  2.390268e+06  2.390268e+06  2.374408e+06   \n",
       "mean   ...  2.687757e-01  3.435523e-01  2.799973e-01  3.351537e-01   \n",
       "std    ...  2.174238e+00  2.087842e+00  1.977643e+00  1.742587e+00   \n",
       "min    ... -7.471971e+00 -5.862979e+00 -6.029281e+00 -4.080720e+00   \n",
       "25%    ... -1.123252e+00 -1.114326e+00 -9.512009e-01 -9.133750e-01   \n",
       "50%    ...  0.000000e+00  7.006233e-17  6.054629e-17  4.870826e-17   \n",
       "75%    ...  1.342829e+00  1.405926e+00  1.308625e+00  1.228277e+00   \n",
       "max    ...  1.107771e+02  4.812516e+01  1.276908e+02  6.514517e+01   \n",
       "\n",
       "        feature_125   feature_126   feature_127   feature_128   feature_129  \\\n",
       "count  2.374408e+06  2.381638e+06  2.381638e+06  2.388570e+06  2.388570e+06   \n",
       "mean   2.448752e-01  3.391778e-01  2.323809e-01  3.425608e-01  2.456182e-01   \n",
       "std    2.242853e+00  2.534498e+00  1.795854e+00  2.307130e+00  1.765419e+00   \n",
       "min   -8.136407e+00 -8.215050e+00 -5.765982e+00 -7.024909e+00 -5.282181e+00   \n",
       "25%   -1.212124e+00 -1.452912e+00 -8.993050e-01 -1.278341e+00 -8.544535e-01   \n",
       "50%   -2.558675e-16  1.015055e-16  5.419920e-17  8.563069e-17  4.869529e-17   \n",
       "75%    1.409687e+00  1.767275e+00  1.111491e+00  1.582633e+00  1.125321e+00   \n",
       "max    7.052807e+01  5.872849e+01  6.932221e+01  5.119038e+01  1.164568e+02   \n",
       "\n",
       "              ts_id  \n",
       "count  2.390491e+06  \n",
       "mean   1.195245e+06  \n",
       "std    6.900755e+05  \n",
       "min    0.000000e+00  \n",
       "25%    5.976225e+05  \n",
       "50%    1.195245e+06  \n",
       "75%    1.792868e+06  \n",
       "max    2.390490e+06  \n",
       "\n",
       "[8 rows x 138 columns]"
      ]
     },
     "execution_count": 5,
     "metadata": {},
     "output_type": "execute_result"
    }
   ],
   "source": [
    "data.describe()"
   ]
  },
  {
   "cell_type": "code",
   "execution_count": 6,
   "metadata": {},
   "outputs": [
    {
     "name": "stdout",
     "output_type": "stream",
     "text": [
      "hello world)\n"
     ]
    }
   ],
   "source": [
    "print(\"hello world)\")"
   ]
  },
  {
   "cell_type": "markdown",
   "metadata": {},
   "source": [
    "\n",
    "### Data Distribution\n",
    "Lets look at skewness of some of the features\n",
    "\n",
    "###### Question: When dealing with hundreds of predictors, is there a way to look only consider the predictors that are the most skewed or least skewed?\n",
    "- when predictability is important, it may be best to only consider predictors that are not skewed"
   ]
  },
  {
   "cell_type": "code",
   "execution_count": 7,
   "metadata": {},
   "outputs": [
    {
     "data": {
      "text/plain": [
       "(array([2.312047e+06, 6.896000e+03, 1.674000e+03, 6.810000e+02,\n",
       "        3.070000e+02, 1.890000e+02, 1.210000e+02, 7.500000e+01,\n",
       "        3.700000e+01, 1.600000e+01, 1.200000e+01, 5.000000e+00,\n",
       "        9.000000e+00, 9.000000e+00, 3.000000e+00, 0.000000e+00,\n",
       "        0.000000e+00, 0.000000e+00, 0.000000e+00, 1.000000e+00]),\n",
       " array([ -4.22397868,  33.32421512,  70.87240892, 108.42060272,\n",
       "        145.96879651, 183.51699031, 221.06518411, 258.61337791,\n",
       "        296.16157171, 333.70976551, 371.25795931, 408.80615311,\n",
       "        446.3543469 , 483.9025407 , 521.4507345 , 558.9989283 ,\n",
       "        596.5471221 , 634.0953159 , 671.6435097 , 709.1917035 ,\n",
       "        746.73989729]),\n",
       " <BarContainer object of 20 artists>)"
      ]
     },
     "execution_count": 7,
     "metadata": {},
     "output_type": "execute_result"
    },
    {
     "data": {
      "image/png": "[encoded data removed]",
      "text/plain": [
       "<Figure size 1440x1440 with 5 Axes>"
      ]
     },
     "metadata": {
      "needs_background": "light"
     },
     "output_type": "display_data"
    }
   ],
   "source": [
    "#plot some of the features to check for skewness\n",
    "#lets plot 5 features for now\n",
    "\n",
    "fig, (ax1, ax2, ax3, ax4, ax5) = plt.subplots(5,1, figsize=(20, 20))\n",
    "\n",
    "ax1.hist(data[\"feature_50\"].values, bins=20)\n",
    "\n",
    "ax2.hist(data[\"feature_52\"].values, bins=20)\n",
    "\n",
    "ax3.hist(data[\"feature_53\"].values, bins=20)\n",
    "\n",
    "ax4.hist(data[\"feature_54\"].values, bins = 20)\n",
    "\n",
    "ax5.hist(data[\"feature_55\"].values, bins = 20)"
   ]
  },
  {
   "cell_type": "code",
   "execution_count": 8,
   "metadata": {},
   "outputs": [],
   "source": [
    "#Determine which of the 129 features have significantly skewed data\n",
    "#   - what is the skewness of the data\n",
    "#   - what is the ratio of the highest to lowerst value (greater than 20?)\n",
    "\n",
    "#add column for skewness and ratio\n"
   ]
  },
  {
   "cell_type": "code",
   "execution_count": 9,
   "metadata": {},
   "outputs": [
    {
     "data": {
      "text/plain": [
       "'\\nskewness_of_data = data.skew(axis = 0)\\nhighly_skewed = skewness_of_data[np.abs(skewness_of_data > 1)]\\nfor label in highly_skewed.iteritems():\\n    data[label[0]] = np.log(data[label[0]])\\n'"
      ]
     },
     "execution_count": 9,
     "metadata": {},
     "output_type": "execute_result"
    }
   ],
   "source": [
    "#What are the features that are highly skewed\n",
    "#this transformation only works for positive values, so leave for now\n",
    "'''\n",
    "skewness_of_data = data.skew(axis = 0)\n",
    "highly_skewed = skewness_of_data[np.abs(skewness_of_data > 1)]\n",
    "for label in highly_skewed.iteritems():\n",
    "    data[label[0]] = np.log(data[label[0]])\n",
    "'''"
   ]
  },
  {
   "cell_type": "code",
   "execution_count": 10,
   "metadata": {},
   "outputs": [],
   "source": [
    "my_dict = {\"Label_1\": [1, 2, 3, 4], \"Label_2\": [5, 6, 7, 8],\\\n",
    "         \"Label_3\":[9,10,11,12]}\n",
    "my_dict = pd.DataFrame(my_dict)\n",
    "my_dict[\"Label_1\"] = np.power(my_dict[\"Label_1\"],2) #2 is broadcasted\n",
    "\n"
   ]
  },
  {
   "cell_type": "code",
   "execution_count": 11,
   "metadata": {},
   "outputs": [
    {
     "data": {
      "text/plain": [
       "array([3.40412364, 3.03561055, 0.63662688, 2.00215994, 0.59276364,\n",
       "       0.92242901, 0.85168778, 1.0099102 , 1.16450031, 2.6037923 ,\n",
       "       3.02884372, 0.50689775, 1.44578326, 0.82778519, 2.29180359,\n",
       "       0.58158797, 0.62317137, 1.8941762 , 1.15503769, 3.22074165])"
      ]
     },
     "execution_count": 11,
     "metadata": {},
     "output_type": "execute_result"
    }
   ],
   "source": [
    "np.random.gamma(2, size = 20)"
   ]
  },
  {
   "cell_type": "code",
   "execution_count": 12,
   "metadata": {},
   "outputs": [
    {
     "name": "stdout",
     "output_type": "stream",
     "text": [
      "0 b\n",
      "1 o\n"
     ]
    }
   ],
   "source": [
    "colors = ['b','o']\n",
    "for k, m in enumerate(colors):\n",
    "    print(k,m)"
   ]
  },
  {
   "cell_type": "markdown",
   "metadata": {},
   "source": [
    "---------------------------------------------------------------------"
   ]
  },
  {
   "cell_type": "markdown",
   "metadata": {},
   "source": [
    "<h2>Feature Engineering and Extraction</h2>"
   ]
  },
  {
   "cell_type": "code",
   "execution_count": 13,
   "metadata": {},
   "outputs": [],
   "source": [
    "#seperate features and non-features (not everyting in the notebook is a feature)\n",
    "features = []\n",
    "non_features = []\n",
    "for column in data.columns:\n",
    "    if \"feature\" in column:\n",
    "        features.append(column)\n",
    "    else:\n",
    "        non_features.append(column)\n"
   ]
  },
  {
   "cell_type": "code",
   "execution_count": null,
   "metadata": {},
   "outputs": [],
   "source": []
  },
  {
   "cell_type": "code",
   "execution_count": 14,
   "metadata": {},
   "outputs": [
    {
     "data": {
      "text/plain": [
       "<seaborn.axisgrid.FacetGrid at 0x7f52a97f6cd0>"
      ]
     },
     "execution_count": 14,
     "metadata": {},
     "output_type": "execute_result"
    },
    {
     "data": {
      "image/png": "[encoded data removed]",
      "text/plain": [
       "<Figure size 360x360 with 1 Axes>"
      ]
     },
     "metadata": {
      "needs_background": "light"
     },
     "output_type": "display_data"
    }
   ],
   "source": [
    "sns.displot()\n",
    "        "
   ]
  },
  {
   "cell_type": "code",
   "execution_count": 15,
   "metadata": {},
   "outputs": [
    {
     "data": {
      "text/html": [
       "<div>\n",
       "<style scoped>\n",
       "    .dataframe tbody tr th:only-of-type {\n",
       "        vertical-align: middle;\n",
       "    }\n",
       "\n",
       "    .dataframe tbody tr th {\n",
       "        vertical-align: top;\n",
       "    }\n",
       "\n",
       "    .dataframe thead th {\n",
       "        text-align: right;\n",
       "    }\n",
       "</style>\n",
       "<table border=\"1\" class=\"dataframe\">\n",
       "  <thead>\n",
       "    <tr style=\"text-align: right;\">\n",
       "      <th></th>\n",
       "      <th>date</th>\n",
       "      <th>weight</th>\n",
       "      <th>resp_1</th>\n",
       "      <th>resp_2</th>\n",
       "      <th>resp_3</th>\n",
       "      <th>resp_4</th>\n",
       "      <th>resp</th>\n",
       "      <th>ts_id</th>\n",
       "    </tr>\n",
       "  </thead>\n",
       "  <tbody>\n",
       "    <tr>\n",
       "      <th>0</th>\n",
       "      <td>0</td>\n",
       "      <td>0.000000</td>\n",
       "      <td>0.009916</td>\n",
       "      <td>0.014079</td>\n",
       "      <td>0.008773</td>\n",
       "      <td>0.001390</td>\n",
       "      <td>0.006270</td>\n",
       "      <td>0</td>\n",
       "    </tr>\n",
       "    <tr>\n",
       "      <th>1</th>\n",
       "      <td>0</td>\n",
       "      <td>16.673515</td>\n",
       "      <td>-0.002828</td>\n",
       "      <td>-0.003226</td>\n",
       "      <td>-0.007319</td>\n",
       "      <td>-0.011114</td>\n",
       "      <td>-0.009792</td>\n",
       "      <td>1</td>\n",
       "    </tr>\n",
       "    <tr>\n",
       "      <th>2</th>\n",
       "      <td>0</td>\n",
       "      <td>0.000000</td>\n",
       "      <td>0.025134</td>\n",
       "      <td>0.027607</td>\n",
       "      <td>0.033406</td>\n",
       "      <td>0.034380</td>\n",
       "      <td>0.023970</td>\n",
       "      <td>2</td>\n",
       "    </tr>\n",
       "    <tr>\n",
       "      <th>3</th>\n",
       "      <td>0</td>\n",
       "      <td>0.000000</td>\n",
       "      <td>-0.004730</td>\n",
       "      <td>-0.003273</td>\n",
       "      <td>-0.000461</td>\n",
       "      <td>-0.000476</td>\n",
       "      <td>-0.003200</td>\n",
       "      <td>3</td>\n",
       "    </tr>\n",
       "    <tr>\n",
       "      <th>4</th>\n",
       "      <td>0</td>\n",
       "      <td>0.138531</td>\n",
       "      <td>0.001252</td>\n",
       "      <td>0.002165</td>\n",
       "      <td>-0.001215</td>\n",
       "      <td>-0.006219</td>\n",
       "      <td>-0.002604</td>\n",
       "      <td>4</td>\n",
       "    </tr>\n",
       "    <tr>\n",
       "      <th>5</th>\n",
       "      <td>0</td>\n",
       "      <td>0.000000</td>\n",
       "      <td>-0.001047</td>\n",
       "      <td>-0.002700</td>\n",
       "      <td>0.000743</td>\n",
       "      <td>0.004667</td>\n",
       "      <td>0.001282</td>\n",
       "      <td>5</td>\n",
       "    </tr>\n",
       "    <tr>\n",
       "      <th>6</th>\n",
       "      <td>0</td>\n",
       "      <td>0.190575</td>\n",
       "      <td>-0.001939</td>\n",
       "      <td>-0.002301</td>\n",
       "      <td>0.001088</td>\n",
       "      <td>0.005963</td>\n",
       "      <td>0.000709</td>\n",
       "      <td>6</td>\n",
       "    </tr>\n",
       "    <tr>\n",
       "      <th>7</th>\n",
       "      <td>0</td>\n",
       "      <td>3.820844</td>\n",
       "      <td>0.017395</td>\n",
       "      <td>0.021361</td>\n",
       "      <td>0.031163</td>\n",
       "      <td>0.036970</td>\n",
       "      <td>0.033473</td>\n",
       "      <td>7</td>\n",
       "    </tr>\n",
       "    <tr>\n",
       "      <th>8</th>\n",
       "      <td>0</td>\n",
       "      <td>0.116557</td>\n",
       "      <td>-0.005460</td>\n",
       "      <td>-0.007301</td>\n",
       "      <td>-0.009085</td>\n",
       "      <td>-0.003546</td>\n",
       "      <td>-0.001677</td>\n",
       "      <td>8</td>\n",
       "    </tr>\n",
       "    <tr>\n",
       "      <th>9</th>\n",
       "      <td>0</td>\n",
       "      <td>0.160117</td>\n",
       "      <td>0.005976</td>\n",
       "      <td>0.004345</td>\n",
       "      <td>0.023712</td>\n",
       "      <td>0.035360</td>\n",
       "      <td>0.020317</td>\n",
       "      <td>9</td>\n",
       "    </tr>\n",
       "    <tr>\n",
       "      <th>10</th>\n",
       "      <td>0</td>\n",
       "      <td>0.109651</td>\n",
       "      <td>0.006899</td>\n",
       "      <td>0.003405</td>\n",
       "      <td>0.000134</td>\n",
       "      <td>-0.003040</td>\n",
       "      <td>-0.000690</td>\n",
       "      <td>10</td>\n",
       "    </tr>\n",
       "    <tr>\n",
       "      <th>11</th>\n",
       "      <td>0</td>\n",
       "      <td>0.199435</td>\n",
       "      <td>-0.005512</td>\n",
       "      <td>-0.003395</td>\n",
       "      <td>-0.003271</td>\n",
       "      <td>-0.006691</td>\n",
       "      <td>-0.002144</td>\n",
       "      <td>11</td>\n",
       "    </tr>\n",
       "    <tr>\n",
       "      <th>12</th>\n",
       "      <td>0</td>\n",
       "      <td>0.298108</td>\n",
       "      <td>-0.003706</td>\n",
       "      <td>-0.004551</td>\n",
       "      <td>-0.006831</td>\n",
       "      <td>-0.004937</td>\n",
       "      <td>-0.002707</td>\n",
       "      <td>12</td>\n",
       "    </tr>\n",
       "    <tr>\n",
       "      <th>13</th>\n",
       "      <td>0</td>\n",
       "      <td>0.759367</td>\n",
       "      <td>0.018205</td>\n",
       "      <td>0.003462</td>\n",
       "      <td>-0.043791</td>\n",
       "      <td>-0.081529</td>\n",
       "      <td>-0.055979</td>\n",
       "      <td>13</td>\n",
       "    </tr>\n",
       "    <tr>\n",
       "      <th>14</th>\n",
       "      <td>0</td>\n",
       "      <td>0.811851</td>\n",
       "      <td>-0.015328</td>\n",
       "      <td>-0.012394</td>\n",
       "      <td>-0.003800</td>\n",
       "      <td>-0.001672</td>\n",
       "      <td>-0.011818</td>\n",
       "      <td>14</td>\n",
       "    </tr>\n",
       "  </tbody>\n",
       "</table>\n",
       "</div>"
      ],
      "text/plain": [
       "    date     weight    resp_1    resp_2    resp_3    resp_4      resp  ts_id\n",
       "0      0   0.000000  0.009916  0.014079  0.008773  0.001390  0.006270      0\n",
       "1      0  16.673515 -0.002828 -0.003226 -0.007319 -0.011114 -0.009792      1\n",
       "2      0   0.000000  0.025134  0.027607  0.033406  0.034380  0.023970      2\n",
       "3      0   0.000000 -0.004730 -0.003273 -0.000461 -0.000476 -0.003200      3\n",
       "4      0   0.138531  0.001252  0.002165 -0.001215 -0.006219 -0.002604      4\n",
       "5      0   0.000000 -0.001047 -0.002700  0.000743  0.004667  0.001282      5\n",
       "6      0   0.190575 -0.001939 -0.002301  0.001088  0.005963  0.000709      6\n",
       "7      0   3.820844  0.017395  0.021361  0.031163  0.036970  0.033473      7\n",
       "8      0   0.116557 -0.005460 -0.007301 -0.009085 -0.003546 -0.001677      8\n",
       "9      0   0.160117  0.005976  0.004345  0.023712  0.035360  0.020317      9\n",
       "10     0   0.109651  0.006899  0.003405  0.000134 -0.003040 -0.000690     10\n",
       "11     0   0.199435 -0.005512 -0.003395 -0.003271 -0.006691 -0.002144     11\n",
       "12     0   0.298108 -0.003706 -0.004551 -0.006831 -0.004937 -0.002707     12\n",
       "13     0   0.759367  0.018205  0.003462 -0.043791 -0.081529 -0.055979     13\n",
       "14     0   0.811851 -0.015328 -0.012394 -0.003800 -0.001672 -0.011818     14"
      ]
     },
     "execution_count": 15,
     "metadata": {},
     "output_type": "execute_result"
    }
   ],
   "source": [
    "data[non_features].head(15)"
   ]
  },
  {
   "cell_type": "code",
   "execution_count": 16,
   "metadata": {},
   "outputs": [],
   "source": [
    "#We have 2390491 rows\n",
    "#How many of these rows have weights = negative infinity\n",
    "# how many of these rows have weights = positive infinity\n",
    "# How many of these rows have weights = 0"
   ]
  },
  {
   "cell_type": "markdown",
   "metadata": {},
   "source": [
    "resp value represent returns over different time horizons\n",
    "Weight * resp apparently represents total return\n",
    "\n",
    "What is the relationship between the weight and the resp value?\n",
    "How are the respo values distributed?\n",
    "Create a function for graphing the ditreibution of the histogram\n"
   ]
  },
  {
   "cell_type": "code",
   "execution_count": 17,
   "metadata": {},
   "outputs": [],
   "source": [
    "def give_distribution(resp):\n",
    "    plt.style.use(\"ggplot\")\n",
    "    plt.hist(data[resp].values, bins = 100)\n",
    "    plt.xlabel(\"Values\")\n",
    "    plt.ylabel(\"\")"
   ]
  },
  {
   "cell_type": "code",
   "execution_count": 18,
   "metadata": {},
   "outputs": [
    {
     "data": {
      "image/png": "[encoded data removed]",
      "text/plain": [
       "<Figure size 432x288 with 1 Axes>"
      ]
     },
     "metadata": {},
     "output_type": "display_data"
    }
   ],
   "source": [
    "give_distribution(\"resp_1\")"
   ]
  },
  {
   "cell_type": "code",
   "execution_count": 19,
   "metadata": {},
   "outputs": [
    {
     "data": {
      "image/png": "[encoded data removed]",
      "text/plain": [
       "<Figure size 432x288 with 1 Axes>"
      ]
     },
     "metadata": {},
     "output_type": "display_data"
    }
   ],
   "source": [
    "give_distribution(\"resp_2\")"
   ]
  },
  {
   "cell_type": "code",
   "execution_count": 20,
   "metadata": {},
   "outputs": [
    {
     "data": {
      "image/png": "[encoded data removed]",
      "text/plain": [
       "<Figure size 432x288 with 1 Axes>"
      ]
     },
     "metadata": {},
     "output_type": "display_data"
    }
   ],
   "source": [
    "give_distribution(\"resp_3\")"
   ]
  },
  {
   "cell_type": "code",
   "execution_count": 21,
   "metadata": {},
   "outputs": [
    {
     "data": {
      "image/png": "[encoded data removed]",
      "text/plain": [
       "<Figure size 432x288 with 1 Axes>"
      ]
     },
     "metadata": {},
     "output_type": "display_data"
    }
   ],
   "source": [
    "give_distribution(\"resp_4\")"
   ]
  },
  {
   "cell_type": "code",
   "execution_count": 22,
   "metadata": {},
   "outputs": [
    {
     "data": {
      "image/png": "[encoded data removed]",
      "text/plain": [
       "<Figure size 432x288 with 1 Axes>"
      ]
     },
     "metadata": {},
     "output_type": "display_data"
    }
   ],
   "source": [
    "give_distribution(\"resp\")"
   ]
  },
  {
   "cell_type": "code",
   "execution_count": 23,
   "metadata": {},
   "outputs": [
    {
     "data": {
      "text/html": [
       "<div>\n",
       "<style scoped>\n",
       "    .dataframe tbody tr th:only-of-type {\n",
       "        vertical-align: middle;\n",
       "    }\n",
       "\n",
       "    .dataframe tbody tr th {\n",
       "        vertical-align: top;\n",
       "    }\n",
       "\n",
       "    .dataframe thead th {\n",
       "        text-align: right;\n",
       "    }\n",
       "</style>\n",
       "<table border=\"1\" class=\"dataframe\">\n",
       "  <thead>\n",
       "    <tr style=\"text-align: right;\">\n",
       "      <th></th>\n",
       "      <th>resp</th>\n",
       "      <th>resp_1</th>\n",
       "      <th>resp_2</th>\n",
       "      <th>resp</th>\n",
       "      <th>weight</th>\n",
       "    </tr>\n",
       "  </thead>\n",
       "  <tbody>\n",
       "    <tr>\n",
       "      <th>count</th>\n",
       "      <td>2.390491e+06</td>\n",
       "      <td>2.390491e+06</td>\n",
       "      <td>2.390491e+06</td>\n",
       "      <td>2.390491e+06</td>\n",
       "      <td>2.390491e+06</td>\n",
       "    </tr>\n",
       "    <tr>\n",
       "      <th>mean</th>\n",
       "      <td>4.083113e-04</td>\n",
       "      <td>1.434969e-04</td>\n",
       "      <td>1.980749e-04</td>\n",
       "      <td>4.083113e-04</td>\n",
       "      <td>3.031535e+00</td>\n",
       "    </tr>\n",
       "    <tr>\n",
       "      <th>std</th>\n",
       "      <td>2.693609e-02</td>\n",
       "      <td>8.930163e-03</td>\n",
       "      <td>1.230236e-02</td>\n",
       "      <td>2.693609e-02</td>\n",
       "      <td>7.672794e+00</td>\n",
       "    </tr>\n",
       "    <tr>\n",
       "      <th>min</th>\n",
       "      <td>-5.493845e-01</td>\n",
       "      <td>-3.675043e-01</td>\n",
       "      <td>-5.328334e-01</td>\n",
       "      <td>-5.493845e-01</td>\n",
       "      <td>0.000000e+00</td>\n",
       "    </tr>\n",
       "    <tr>\n",
       "      <th>25%</th>\n",
       "      <td>-7.157903e-03</td>\n",
       "      <td>-1.859162e-03</td>\n",
       "      <td>-2.655044e-03</td>\n",
       "      <td>-7.157903e-03</td>\n",
       "      <td>1.617400e-01</td>\n",
       "    </tr>\n",
       "    <tr>\n",
       "      <th>50%</th>\n",
       "      <td>8.634997e-05</td>\n",
       "      <td>4.552665e-05</td>\n",
       "      <td>6.928179e-05</td>\n",
       "      <td>8.634997e-05</td>\n",
       "      <td>7.086770e-01</td>\n",
       "    </tr>\n",
       "    <tr>\n",
       "      <th>75%</th>\n",
       "      <td>7.544347e-03</td>\n",
       "      <td>2.097469e-03</td>\n",
       "      <td>2.939111e-03</td>\n",
       "      <td>7.544347e-03</td>\n",
       "      <td>2.471791e+00</td>\n",
       "    </tr>\n",
       "    <tr>\n",
       "      <th>max</th>\n",
       "      <td>4.484616e-01</td>\n",
       "      <td>2.453477e-01</td>\n",
       "      <td>2.949339e-01</td>\n",
       "      <td>4.484616e-01</td>\n",
       "      <td>1.672937e+02</td>\n",
       "    </tr>\n",
       "  </tbody>\n",
       "</table>\n",
       "</div>"
      ],
      "text/plain": [
       "               resp        resp_1        resp_2          resp        weight\n",
       "count  2.390491e+06  2.390491e+06  2.390491e+06  2.390491e+06  2.390491e+06\n",
       "mean   4.083113e-04  1.434969e-04  1.980749e-04  4.083113e-04  3.031535e+00\n",
       "std    2.693609e-02  8.930163e-03  1.230236e-02  2.693609e-02  7.672794e+00\n",
       "min   -5.493845e-01 -3.675043e-01 -5.328334e-01 -5.493845e-01  0.000000e+00\n",
       "25%   -7.157903e-03 -1.859162e-03 -2.655044e-03 -7.157903e-03  1.617400e-01\n",
       "50%    8.634997e-05  4.552665e-05  6.928179e-05  8.634997e-05  7.086770e-01\n",
       "75%    7.544347e-03  2.097469e-03  2.939111e-03  7.544347e-03  2.471791e+00\n",
       "max    4.484616e-01  2.453477e-01  2.949339e-01  4.484616e-01  1.672937e+02"
      ]
     },
     "execution_count": 23,
     "metadata": {},
     "output_type": "execute_result"
    }
   ],
   "source": [
    "#it may be beneficial to remove outliers from the dataset\n",
    "\n",
    "data[[\"resp\", \"resp_1\", \"resp_2\", \"resp\", \"weight\"]].describe()"
   ]
  },
  {
   "cell_type": "markdown",
   "metadata": {},
   "source": [
    "WE know that the relationship between weight and resp is that weight * resp gives the return for that trade. What is the relationship between weight and resp (i.e. What is the correlation) ?"
   ]
  },
  {
   "cell_type": "code",
   "execution_count": 24,
   "metadata": {},
   "outputs": [
    {
     "data": {
      "text/plain": [
       "167.2937151011765"
      ]
     },
     "execution_count": 24,
     "metadata": {},
     "output_type": "execute_result"
    }
   ],
   "source": [
    "max(data[\"weight\"])"
   ]
  },
  {
   "cell_type": "code",
   "execution_count": 25,
   "metadata": {},
   "outputs": [
    {
     "data": {
      "text/plain": [
       "'\\nKind of ugly looking plot compared to jointplot. Maybe use jointplot\\nexclusively?\\nplt.style.use(\"ggplot\")\\nsns.regplot(x = \"weight\", y = \"resp\", data = data, color=\"darkorange\")\\n'"
      ]
     },
     "execution_count": 25,
     "metadata": {},
     "output_type": "execute_result"
    }
   ],
   "source": [
    "'''\n",
    "Kind of ugly looking plot compared to jointplot. Maybe use jointplot\n",
    "exclusively?\n",
    "plt.style.use(\"ggplot\")\n",
    "sns.regplot(x = \"weight\", y = \"resp\", data = data, color=\"darkorange\")\n",
    "'''\n"
   ]
  },
  {
   "cell_type": "code",
   "execution_count": 26,
   "metadata": {},
   "outputs": [
    {
     "data": {
      "image/png": "[encoded data removed]",
      "text/plain": [
       "<Figure size 432x432 with 3 Axes>"
      ]
     },
     "metadata": {},
     "output_type": "display_data"
    }
   ],
   "source": [
    "def weight_resp_distribution(y):\n",
    "    plt.style.use(\"ggplot\")\n",
    "    sns.jointplot(x = \"weight\", y = y, data = data, kind='scatter', color='darkorange', ratio=3)\n",
    "    plt.show()\n",
    "weight_resp_distribution(\"resp\")\n",
    "\n"
   ]
  },
  {
   "cell_type": "code",
   "execution_count": 57,
   "metadata": {},
   "outputs": [
    {
     "data": {
      "text/html": [
       "<div>\n",
       "<style scoped>\n",
       "    .dataframe tbody tr th:only-of-type {\n",
       "        vertical-align: middle;\n",
       "    }\n",
       "\n",
       "    .dataframe tbody tr th {\n",
       "        vertical-align: top;\n",
       "    }\n",
       "\n",
       "    .dataframe thead th {\n",
       "        text-align: right;\n",
       "    }\n",
       "</style>\n",
       "<table border=\"1\" class=\"dataframe\">\n",
       "  <thead>\n",
       "    <tr style=\"text-align: right;\">\n",
       "      <th></th>\n",
       "      <th>Column Name</th>\n",
       "      <th>percent missing</th>\n",
       "    </tr>\n",
       "  </thead>\n",
       "  <tbody>\n",
       "    <tr>\n",
       "      <th>feature_0</th>\n",
       "      <td>feature_0</td>\n",
       "      <td>0.0</td>\n",
       "    </tr>\n",
       "    <tr>\n",
       "      <th>feature_93</th>\n",
       "      <td>feature_93</td>\n",
       "      <td>0.0</td>\n",
       "    </tr>\n",
       "    <tr>\n",
       "      <th>feature_87</th>\n",
       "      <td>feature_87</td>\n",
       "      <td>0.0</td>\n",
       "    </tr>\n",
       "    <tr>\n",
       "      <th>feature_88</th>\n",
       "      <td>feature_88</td>\n",
       "      <td>0.0</td>\n",
       "    </tr>\n",
       "    <tr>\n",
       "      <th>feature_89</th>\n",
       "      <td>feature_89</td>\n",
       "      <td>0.0</td>\n",
       "    </tr>\n",
       "    <tr>\n",
       "      <th>...</th>\n",
       "      <td>...</td>\n",
       "      <td>...</td>\n",
       "    </tr>\n",
       "    <tr>\n",
       "      <th>feature_39</th>\n",
       "      <td>feature_39</td>\n",
       "      <td>0.0</td>\n",
       "    </tr>\n",
       "    <tr>\n",
       "      <th>feature_38</th>\n",
       "      <td>feature_38</td>\n",
       "      <td>0.0</td>\n",
       "    </tr>\n",
       "    <tr>\n",
       "      <th>feature_37</th>\n",
       "      <td>feature_37</td>\n",
       "      <td>0.0</td>\n",
       "    </tr>\n",
       "    <tr>\n",
       "      <th>feature_36</th>\n",
       "      <td>feature_36</td>\n",
       "      <td>0.0</td>\n",
       "    </tr>\n",
       "    <tr>\n",
       "      <th>resp</th>\n",
       "      <td>resp</td>\n",
       "      <td>0.0</td>\n",
       "    </tr>\n",
       "  </tbody>\n",
       "</table>\n",
       "<p>136 rows × 2 columns</p>\n",
       "</div>"
      ],
      "text/plain": [
       "           Column Name  percent missing\n",
       "feature_0    feature_0              0.0\n",
       "feature_93  feature_93              0.0\n",
       "feature_87  feature_87              0.0\n",
       "feature_88  feature_88              0.0\n",
       "feature_89  feature_89              0.0\n",
       "...                ...              ...\n",
       "feature_39  feature_39              0.0\n",
       "feature_38  feature_38              0.0\n",
       "feature_37  feature_37              0.0\n",
       "feature_36  feature_36              0.0\n",
       "resp              resp              0.0\n",
       "\n",
       "[136 rows x 2 columns]"
      ]
     },
     "execution_count": 57,
     "metadata": {},
     "output_type": "execute_result"
    }
   ],
   "source": [
    "#Sorting all the missing values\n",
    "new_frame = pd.DataFrame({\"Column Name\": model_data.columns, \"percent missing\": model_data.isnull().sum()/model_data.shape[0]})\n",
    "new_frame.sort_values('percent missing', inplace=True, ascending = False)\n",
    "new_frame"
   ]
  },
  {
   "cell_type": "code",
   "execution_count": 28,
   "metadata": {},
   "outputs": [],
   "source": [
    "\n",
    "# Find out how many missing values there are in each column,\n",
    "# and sort from highest to lowest\n",
    "# Deal with missing values, wither through tree classification or through\n",
    "# filling the missing values with averages\n",
    "# use k-means clustering to group together all the highly correlated \n",
    "# variables\n",
    "\n",
    "# Read https://www.kaggle.com/prateeknigam/eda-assignment\n",
    "# Read https://www.kaggle.com/jeeperscreepers/jane-street-eda\n",
    "\n",
    "# Review plotting in Matplotlib, seaborn, \n",
    "\n",
    "#Review how to bucket and graph with matplotlib, seaborn, or with excel"
   ]
  },
  {
   "cell_type": "markdown",
   "metadata": {},
   "source": [
    "data[\"weight\", \"resp\"].isnull().sum()"
   ]
  },
  {
   "cell_type": "code",
   "execution_count": 53,
   "metadata": {},
   "outputs": [
    {
     "data": {
      "text/plain": [
       "weight    0\n",
       "resp      0\n",
       "dtype: int64"
      ]
     },
     "execution_count": 53,
     "metadata": {},
     "output_type": "execute_result"
    }
   ],
   "source": [
    "data[[\"weight\", \"resp\"]].isnull().sum()\n",
    "#Our targets have no missing values"
   ]
  },
  {
   "cell_type": "code",
   "execution_count": 54,
   "metadata": {},
   "outputs": [],
   "source": [
    "features.append(\"weight\")\n",
    "features.append(\"resp\")\n"
   ]
  },
  {
   "cell_type": "code",
   "execution_count": 55,
   "metadata": {},
   "outputs": [],
   "source": [
    "model_data = data[features]\n"
   ]
  },
  {
   "cell_type": "code",
   "execution_count": 56,
   "metadata": {
    "scrolled": true
   },
   "outputs": [],
   "source": [
    "#Some of our data types are not numerical but are objects\n",
    "#for column in model_data.columns:\n",
    "#    print(\"Column {} is {}\".format(column, model_data[column].dtype))\n",
    "\n",
    "#Not all features are floats, but previous formatting from somepoint\n",
    "#earlier made them all floats. Will change this\n",
    "for column in model_data.columns:\n",
    "    column_mean = model_data[column].mean()\n",
    "    model_data[column] = model_data[column].fillna(column_mean)\n"
   ]
  },
  {
   "cell_type": "code",
   "execution_count": 33,
   "metadata": {},
   "outputs": [
    {
     "data": {
      "text/html": [
       "<div>\n",
       "<style scoped>\n",
       "    .dataframe tbody tr th:only-of-type {\n",
       "        vertical-align: middle;\n",
       "    }\n",
       "\n",
       "    .dataframe tbody tr th {\n",
       "        vertical-align: top;\n",
       "    }\n",
       "\n",
       "    .dataframe thead th {\n",
       "        text-align: right;\n",
       "    }\n",
       "</style>\n",
       "<table border=\"1\" class=\"dataframe\">\n",
       "  <thead>\n",
       "    <tr style=\"text-align: right;\">\n",
       "      <th></th>\n",
       "      <th>feature_7</th>\n",
       "      <th>feature_8</th>\n",
       "    </tr>\n",
       "  </thead>\n",
       "  <tbody>\n",
       "    <tr>\n",
       "      <th>count</th>\n",
       "      <td>1.997356e+06</td>\n",
       "      <td>1.997356e+06</td>\n",
       "    </tr>\n",
       "    <tr>\n",
       "      <th>mean</th>\n",
       "      <td>5.177655e-02</td>\n",
       "      <td>2.682810e-02</td>\n",
       "    </tr>\n",
       "    <tr>\n",
       "      <th>std</th>\n",
       "      <td>1.768331e+00</td>\n",
       "      <td>2.026105e+00</td>\n",
       "    </tr>\n",
       "    <tr>\n",
       "      <th>min</th>\n",
       "      <td>-2.815943e+01</td>\n",
       "      <td>-4.188122e+01</td>\n",
       "    </tr>\n",
       "    <tr>\n",
       "      <th>25%</th>\n",
       "      <td>-7.753547e-01</td>\n",
       "      <td>-9.251575e-01</td>\n",
       "    </tr>\n",
       "    <tr>\n",
       "      <th>50%</th>\n",
       "      <td>5.402186e-17</td>\n",
       "      <td>7.246478e-17</td>\n",
       "    </tr>\n",
       "    <tr>\n",
       "      <th>75%</th>\n",
       "      <td>8.541611e-01</td>\n",
       "      <td>9.517048e-01</td>\n",
       "    </tr>\n",
       "    <tr>\n",
       "      <th>max</th>\n",
       "      <td>3.300261e+01</td>\n",
       "      <td>4.068199e+01</td>\n",
       "    </tr>\n",
       "  </tbody>\n",
       "</table>\n",
       "</div>"
      ],
      "text/plain": [
       "          feature_7     feature_8\n",
       "count  1.997356e+06  1.997356e+06\n",
       "mean   5.177655e-02  2.682810e-02\n",
       "std    1.768331e+00  2.026105e+00\n",
       "min   -2.815943e+01 -4.188122e+01\n",
       "25%   -7.753547e-01 -9.251575e-01\n",
       "50%    5.402186e-17  7.246478e-17\n",
       "75%    8.541611e-01  9.517048e-01\n",
       "max    3.300261e+01  4.068199e+01"
      ]
     },
     "execution_count": 33,
     "metadata": {},
     "output_type": "execute_result"
    }
   ],
   "source": [
    "model_data[[\"feature_7\", \"feature_8\"]].describe()"
   ]
  },
  {
   "cell_type": "code",
   "execution_count": 36,
   "metadata": {},
   "outputs": [
    {
     "data": {
      "text/html": [
       "<div>\n",
       "<style scoped>\n",
       "    .dataframe tbody tr th:only-of-type {\n",
       "        vertical-align: middle;\n",
       "    }\n",
       "\n",
       "    .dataframe tbody tr th {\n",
       "        vertical-align: top;\n",
       "    }\n",
       "\n",
       "    .dataframe thead th {\n",
       "        text-align: right;\n",
       "    }\n",
       "</style>\n",
       "<table border=\"1\" class=\"dataframe\">\n",
       "  <thead>\n",
       "    <tr style=\"text-align: right;\">\n",
       "      <th></th>\n",
       "      <th>feature_7</th>\n",
       "      <th>feature_8</th>\n",
       "      <th>feature_9</th>\n",
       "    </tr>\n",
       "  </thead>\n",
       "  <tbody>\n",
       "    <tr>\n",
       "      <th>0</th>\n",
       "      <td>False</td>\n",
       "      <td>False</td>\n",
       "      <td>True</td>\n",
       "    </tr>\n",
       "    <tr>\n",
       "      <th>1</th>\n",
       "      <td>False</td>\n",
       "      <td>False</td>\n",
       "      <td>True</td>\n",
       "    </tr>\n",
       "    <tr>\n",
       "      <th>2</th>\n",
       "      <td>False</td>\n",
       "      <td>False</td>\n",
       "      <td>True</td>\n",
       "    </tr>\n",
       "    <tr>\n",
       "      <th>3</th>\n",
       "      <td>False</td>\n",
       "      <td>False</td>\n",
       "      <td>True</td>\n",
       "    </tr>\n",
       "    <tr>\n",
       "      <th>4</th>\n",
       "      <td>False</td>\n",
       "      <td>False</td>\n",
       "      <td>True</td>\n",
       "    </tr>\n",
       "  </tbody>\n",
       "</table>\n",
       "</div>"
      ],
      "text/plain": [
       "   feature_7  feature_8  feature_9\n",
       "0      False      False       True\n",
       "1      False      False       True\n",
       "2      False      False       True\n",
       "3      False      False       True\n",
       "4      False      False       True"
      ]
     },
     "execution_count": 36,
     "metadata": {},
     "output_type": "execute_result"
    }
   ],
   "source": [
    "model_data[[\"feature_7\", \"feature_8\", \"feature_9\"]].notnull().head()"
   ]
  },
  {
   "cell_type": "markdown",
   "metadata": {},
   "source": [
    "Not all of our features are numerical values. As we can see, some of our features are boolean values.\n",
    "\n",
    "We will attempt to do lienar regression with only the values that are numerical, before later on encoding the non-numerical variable and testing if R squared increases or if our accuracy increases."
   ]
  },
  {
   "cell_type": "code",
   "execution_count": null,
   "metadata": {},
   "outputs": [],
   "source": [
    "#For each column, "
   ]
  },
  {
   "cell_type": "markdown",
   "metadata": {},
   "source": [
    "<h3>Ordinary Least Squares Model</h3>"
   ]
  },
  {
   "cell_type": "code",
   "execution_count": 43,
   "metadata": {},
   "outputs": [],
   "source": [
    "#we will use sklearn train-test split\n",
    "from sklearn.model_selection import train_test_split\n",
    "from sklearn.linear_model import LinearRegression\n",
    "from sklearn.model_selection import GridSearchCV\n",
    "from sklearn.model_selection import cross_val_score\n",
    "from sklearn.metrics import median_absolute_error\n",
    "from sklearn.metrics import mean_absolute_error\n",
    "\n",
    "import warnings\n",
    "warnings.filterwarnings('ignore')\n"
   ]
  },
  {
   "cell_type": "code",
   "execution_count": 41,
   "metadata": {},
   "outputs": [],
   "source": [
    "#splitting X and y into train and test sets\n",
    "X_train, X_test, y_train, y_test = train_test_split(model_data[features], model_data[\"weight\"] * model_data[\"resp\"], test_size = 0.,\\\n",
    "                                                   random_state = 5)\n"
   ]
  },
  {
   "cell_type": "code",
   "execution_count": 58,
   "metadata": {},
   "outputs": [
    {
     "ename": "ValueError",
     "evalue": "Input contains NaN, infinity or a value too large for dtype('float64').",
     "output_type": "error",
     "traceback": [
      "\u001b[0;31m---------------------------------------------------------------------------\u001b[0m",
      "\u001b[0;31mValueError\u001b[0m                                Traceback (most recent call last)",
      "\u001b[0;32m<ipython-input-58-a1cdcd66acc6>\u001b[0m in \u001b[0;36m<module>\u001b[0;34m\u001b[0m\n\u001b[1;32m      1\u001b[0m \u001b[0mols_model\u001b[0m \u001b[0;34m=\u001b[0m \u001b[0mLinearRegression\u001b[0m\u001b[0;34m(\u001b[0m\u001b[0;34m)\u001b[0m\u001b[0;34m\u001b[0m\u001b[0;34m\u001b[0m\u001b[0m\n\u001b[0;32m----> 2\u001b[0;31m \u001b[0mols_model\u001b[0m\u001b[0;34m.\u001b[0m\u001b[0mfit\u001b[0m\u001b[0;34m(\u001b[0m\u001b[0mX_train\u001b[0m\u001b[0;34m,\u001b[0m \u001b[0my_train\u001b[0m\u001b[0;34m)\u001b[0m\u001b[0;34m\u001b[0m\u001b[0;34m\u001b[0m\u001b[0m\n\u001b[0m\u001b[1;32m      3\u001b[0m \u001b[0;31m#try to predict y\u001b[0m\u001b[0;34m\u001b[0m\u001b[0;34m\u001b[0m\u001b[0;34m\u001b[0m\u001b[0m\n\u001b[1;32m      4\u001b[0m \u001b[0my_hat\u001b[0m \u001b[0;34m=\u001b[0m \u001b[0mols_model\u001b[0m\u001b[0;34m.\u001b[0m\u001b[0mpredict\u001b[0m\u001b[0;34m(\u001b[0m\u001b[0mX_test\u001b[0m\u001b[0;34m)\u001b[0m\u001b[0;34m\u001b[0m\u001b[0;34m\u001b[0m\u001b[0m\n\u001b[1;32m      5\u001b[0m \u001b[0mmean_absolute_error\u001b[0m\u001b[0;34m(\u001b[0m\u001b[0my_hat\u001b[0m\u001b[0;34m,\u001b[0m \u001b[0my_test\u001b[0m\u001b[0;34m)\u001b[0m\u001b[0;34m\u001b[0m\u001b[0;34m\u001b[0m\u001b[0m\n",
      "\u001b[0;32m~/anaconda3/lib/python3.7/site-packages/sklearn/linear_model/_base.py\u001b[0m in \u001b[0;36mfit\u001b[0;34m(self, X, y, sample_weight)\u001b[0m\n\u001b[1;32m    504\u001b[0m         \u001b[0mn_jobs_\u001b[0m \u001b[0;34m=\u001b[0m \u001b[0mself\u001b[0m\u001b[0;34m.\u001b[0m\u001b[0mn_jobs\u001b[0m\u001b[0;34m\u001b[0m\u001b[0;34m\u001b[0m\u001b[0m\n\u001b[1;32m    505\u001b[0m         X, y = self._validate_data(X, y, accept_sparse=['csr', 'csc', 'coo'],\n\u001b[0;32m--> 506\u001b[0;31m                                    y_numeric=True, multi_output=True)\n\u001b[0m\u001b[1;32m    507\u001b[0m \u001b[0;34m\u001b[0m\u001b[0m\n\u001b[1;32m    508\u001b[0m         \u001b[0;32mif\u001b[0m \u001b[0msample_weight\u001b[0m \u001b[0;32mis\u001b[0m \u001b[0;32mnot\u001b[0m \u001b[0;32mNone\u001b[0m\u001b[0;34m:\u001b[0m\u001b[0;34m\u001b[0m\u001b[0;34m\u001b[0m\u001b[0m\n",
      "\u001b[0;32m~/anaconda3/lib/python3.7/site-packages/sklearn/base.py\u001b[0m in \u001b[0;36m_validate_data\u001b[0;34m(self, X, y, reset, validate_separately, **check_params)\u001b[0m\n\u001b[1;32m    430\u001b[0m                 \u001b[0my\u001b[0m \u001b[0;34m=\u001b[0m \u001b[0mcheck_array\u001b[0m\u001b[0;34m(\u001b[0m\u001b[0my\u001b[0m\u001b[0;34m,\u001b[0m \u001b[0;34m**\u001b[0m\u001b[0mcheck_y_params\u001b[0m\u001b[0;34m)\u001b[0m\u001b[0;34m\u001b[0m\u001b[0;34m\u001b[0m\u001b[0m\n\u001b[1;32m    431\u001b[0m             \u001b[0;32melse\u001b[0m\u001b[0;34m:\u001b[0m\u001b[0;34m\u001b[0m\u001b[0;34m\u001b[0m\u001b[0m\n\u001b[0;32m--> 432\u001b[0;31m                 \u001b[0mX\u001b[0m\u001b[0;34m,\u001b[0m \u001b[0my\u001b[0m \u001b[0;34m=\u001b[0m \u001b[0mcheck_X_y\u001b[0m\u001b[0;34m(\u001b[0m\u001b[0mX\u001b[0m\u001b[0;34m,\u001b[0m \u001b[0my\u001b[0m\u001b[0;34m,\u001b[0m \u001b[0;34m**\u001b[0m\u001b[0mcheck_params\u001b[0m\u001b[0;34m)\u001b[0m\u001b[0;34m\u001b[0m\u001b[0;34m\u001b[0m\u001b[0m\n\u001b[0m\u001b[1;32m    433\u001b[0m             \u001b[0mout\u001b[0m \u001b[0;34m=\u001b[0m \u001b[0mX\u001b[0m\u001b[0;34m,\u001b[0m \u001b[0my\u001b[0m\u001b[0;34m\u001b[0m\u001b[0;34m\u001b[0m\u001b[0m\n\u001b[1;32m    434\u001b[0m \u001b[0;34m\u001b[0m\u001b[0m\n",
      "\u001b[0;32m~/anaconda3/lib/python3.7/site-packages/sklearn/utils/validation.py\u001b[0m in \u001b[0;36minner_f\u001b[0;34m(*args, **kwargs)\u001b[0m\n\u001b[1;32m     70\u001b[0m                           FutureWarning)\n\u001b[1;32m     71\u001b[0m         \u001b[0mkwargs\u001b[0m\u001b[0;34m.\u001b[0m\u001b[0mupdate\u001b[0m\u001b[0;34m(\u001b[0m\u001b[0;34m{\u001b[0m\u001b[0mk\u001b[0m\u001b[0;34m:\u001b[0m \u001b[0marg\u001b[0m \u001b[0;32mfor\u001b[0m \u001b[0mk\u001b[0m\u001b[0;34m,\u001b[0m \u001b[0marg\u001b[0m \u001b[0;32min\u001b[0m \u001b[0mzip\u001b[0m\u001b[0;34m(\u001b[0m\u001b[0msig\u001b[0m\u001b[0;34m.\u001b[0m\u001b[0mparameters\u001b[0m\u001b[0;34m,\u001b[0m \u001b[0margs\u001b[0m\u001b[0;34m)\u001b[0m\u001b[0;34m}\u001b[0m\u001b[0;34m)\u001b[0m\u001b[0;34m\u001b[0m\u001b[0;34m\u001b[0m\u001b[0m\n\u001b[0;32m---> 72\u001b[0;31m         \u001b[0;32mreturn\u001b[0m \u001b[0mf\u001b[0m\u001b[0;34m(\u001b[0m\u001b[0;34m**\u001b[0m\u001b[0mkwargs\u001b[0m\u001b[0;34m)\u001b[0m\u001b[0;34m\u001b[0m\u001b[0;34m\u001b[0m\u001b[0m\n\u001b[0m\u001b[1;32m     73\u001b[0m     \u001b[0;32mreturn\u001b[0m \u001b[0minner_f\u001b[0m\u001b[0;34m\u001b[0m\u001b[0;34m\u001b[0m\u001b[0m\n\u001b[1;32m     74\u001b[0m \u001b[0;34m\u001b[0m\u001b[0m\n",
      "\u001b[0;32m~/anaconda3/lib/python3.7/site-packages/sklearn/utils/validation.py\u001b[0m in \u001b[0;36mcheck_X_y\u001b[0;34m(X, y, accept_sparse, accept_large_sparse, dtype, order, copy, force_all_finite, ensure_2d, allow_nd, multi_output, ensure_min_samples, ensure_min_features, y_numeric, estimator)\u001b[0m\n\u001b[1;32m    800\u001b[0m                     \u001b[0mensure_min_samples\u001b[0m\u001b[0;34m=\u001b[0m\u001b[0mensure_min_samples\u001b[0m\u001b[0;34m,\u001b[0m\u001b[0;34m\u001b[0m\u001b[0;34m\u001b[0m\u001b[0m\n\u001b[1;32m    801\u001b[0m                     \u001b[0mensure_min_features\u001b[0m\u001b[0;34m=\u001b[0m\u001b[0mensure_min_features\u001b[0m\u001b[0;34m,\u001b[0m\u001b[0;34m\u001b[0m\u001b[0;34m\u001b[0m\u001b[0m\n\u001b[0;32m--> 802\u001b[0;31m                     estimator=estimator)\n\u001b[0m\u001b[1;32m    803\u001b[0m     \u001b[0;32mif\u001b[0m \u001b[0mmulti_output\u001b[0m\u001b[0;34m:\u001b[0m\u001b[0;34m\u001b[0m\u001b[0;34m\u001b[0m\u001b[0m\n\u001b[1;32m    804\u001b[0m         y = check_array(y, accept_sparse='csr', force_all_finite=True,\n",
      "\u001b[0;32m~/anaconda3/lib/python3.7/site-packages/sklearn/utils/validation.py\u001b[0m in \u001b[0;36minner_f\u001b[0;34m(*args, **kwargs)\u001b[0m\n\u001b[1;32m     70\u001b[0m                           FutureWarning)\n\u001b[1;32m     71\u001b[0m         \u001b[0mkwargs\u001b[0m\u001b[0;34m.\u001b[0m\u001b[0mupdate\u001b[0m\u001b[0;34m(\u001b[0m\u001b[0;34m{\u001b[0m\u001b[0mk\u001b[0m\u001b[0;34m:\u001b[0m \u001b[0marg\u001b[0m \u001b[0;32mfor\u001b[0m \u001b[0mk\u001b[0m\u001b[0;34m,\u001b[0m \u001b[0marg\u001b[0m \u001b[0;32min\u001b[0m \u001b[0mzip\u001b[0m\u001b[0;34m(\u001b[0m\u001b[0msig\u001b[0m\u001b[0;34m.\u001b[0m\u001b[0mparameters\u001b[0m\u001b[0;34m,\u001b[0m \u001b[0margs\u001b[0m\u001b[0;34m)\u001b[0m\u001b[0;34m}\u001b[0m\u001b[0;34m)\u001b[0m\u001b[0;34m\u001b[0m\u001b[0;34m\u001b[0m\u001b[0m\n\u001b[0;32m---> 72\u001b[0;31m         \u001b[0;32mreturn\u001b[0m \u001b[0mf\u001b[0m\u001b[0;34m(\u001b[0m\u001b[0;34m**\u001b[0m\u001b[0mkwargs\u001b[0m\u001b[0;34m)\u001b[0m\u001b[0;34m\u001b[0m\u001b[0;34m\u001b[0m\u001b[0m\n\u001b[0m\u001b[1;32m     73\u001b[0m     \u001b[0;32mreturn\u001b[0m \u001b[0minner_f\u001b[0m\u001b[0;34m\u001b[0m\u001b[0;34m\u001b[0m\u001b[0m\n\u001b[1;32m     74\u001b[0m \u001b[0;34m\u001b[0m\u001b[0m\n",
      "\u001b[0;32m~/anaconda3/lib/python3.7/site-packages/sklearn/utils/validation.py\u001b[0m in \u001b[0;36mcheck_array\u001b[0;34m(array, accept_sparse, accept_large_sparse, dtype, order, copy, force_all_finite, ensure_2d, allow_nd, ensure_min_samples, ensure_min_features, estimator)\u001b[0m\n\u001b[1;32m    643\u001b[0m         \u001b[0;32mif\u001b[0m \u001b[0mforce_all_finite\u001b[0m\u001b[0;34m:\u001b[0m\u001b[0;34m\u001b[0m\u001b[0;34m\u001b[0m\u001b[0m\n\u001b[1;32m    644\u001b[0m             _assert_all_finite(array,\n\u001b[0;32m--> 645\u001b[0;31m                                allow_nan=force_all_finite == 'allow-nan')\n\u001b[0m\u001b[1;32m    646\u001b[0m \u001b[0;34m\u001b[0m\u001b[0m\n\u001b[1;32m    647\u001b[0m     \u001b[0;32mif\u001b[0m \u001b[0mensure_min_samples\u001b[0m \u001b[0;34m>\u001b[0m \u001b[0;36m0\u001b[0m\u001b[0;34m:\u001b[0m\u001b[0;34m\u001b[0m\u001b[0;34m\u001b[0m\u001b[0m\n",
      "\u001b[0;32m~/anaconda3/lib/python3.7/site-packages/sklearn/utils/validation.py\u001b[0m in \u001b[0;36m_assert_all_finite\u001b[0;34m(X, allow_nan, msg_dtype)\u001b[0m\n\u001b[1;32m     97\u001b[0m                     \u001b[0mmsg_err\u001b[0m\u001b[0;34m.\u001b[0m\u001b[0mformat\u001b[0m\u001b[0;34m\u001b[0m\u001b[0;34m\u001b[0m\u001b[0m\n\u001b[1;32m     98\u001b[0m                     (type_err,\n\u001b[0;32m---> 99\u001b[0;31m                      msg_dtype if msg_dtype is not None else X.dtype)\n\u001b[0m\u001b[1;32m    100\u001b[0m             )\n\u001b[1;32m    101\u001b[0m     \u001b[0;31m# for object dtype data, we only check for NaNs (GH-13254)\u001b[0m\u001b[0;34m\u001b[0m\u001b[0;34m\u001b[0m\u001b[0;34m\u001b[0m\u001b[0m\n",
      "\u001b[0;31mValueError\u001b[0m: Input contains NaN, infinity or a value too large for dtype('float64')."
     ]
    }
   ],
   "source": [
    "ols_model = LinearRegression()\n",
    "ols_model.fit(X_train, y_train)\n",
    "#try to predict y\n",
    "y_hat = ols_model.predict(X_test)\n",
    "mean_absolute_error(y_hat, y_test)"
   ]
  },
  {
   "cell_type": "markdown",
   "metadata": {},
   "source": [
    "The decision to buy a stock or not, according to linear regression,\n",
    "can be based on a certain threshold of predicted profit"
   ]
  }
 ],
 "metadata": {
  "kernelspec": {
   "display_name": "Python 3",
   "language": "python",
   "name": "python3"
  },
  "language_info": {
   "codemirror_mode": {
    "name": "ipython",
    "version": 3
   },
   "file_extension": ".py",
   "mimetype": "text/x-python",
   "name": "python",
   "nbconvert_exporter": "python",
   "pygments_lexer": "ipython3",
   "version": "3.7.9"
  }
 },
 "nbformat": 4,
 "nbformat_minor": 4
}
